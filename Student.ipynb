{
 "cells": [
  {
   "cell_type": "markdown",
   "metadata": {},
   "source": [
    "Final Project Submission\n",
    "\n",
    "Student name: Pascalia Maiga\n",
    "\n",
    "Student pace: Full time\n",
    "\n",
    "__Scheduled project review date/time: N/A\n",
    "\n",
    "__Instructor name: Maryann Mwikali\n",
    "\n",
    "__Blog post URL:N/A"
   ]
  },
  {
   "cell_type": "markdown",
   "metadata": {},
   "source": [
    "# Overview\n",
    "\n",
    "The Terry Stops problem involves developing a classification model to predict the outcomes of police stops based on reasonable suspicion. This model takes into account several factors, including the presence of weapons, the time of day, and potentially the gender and race of both the officer and the individual stopped. However, incorporating race and gender data introduces ethical concerns, necessitating careful consideration to prevent bias and discrimination. The objective is to enhance the efficiency and fairness of law enforcement actions, while also ensuring that agencies continually monitor and address any potential biases in the model."
   ]
  },
  {
   "cell_type": "markdown",
   "metadata": {},
   "source": [
    "# 1. Business Understanding\n",
    "## 1.1. Problem\n",
    "The Terry Stops project offers a business opportunity to enhance the efficiency and fairness of law enforcement activities. By creating a predictive model to help officers assess the likelihood of an arrest during a Terry Stop, law enforcement agencies can make more informed decisions, potentially reducing false arrests and incidents of police misconduct. However, it is crucial to approach this task with caution and transparency due to the ethical issues surrounding the use of gender and race data. The aim is to develop a tool that aids in improving policing practices while actively avoiding bias and discrimination."
   ]
  },
  {
   "cell_type": "markdown",
   "metadata": {},
   "source": [
    "## 1.2 Aim"
   ]
  },
  {
   "cell_type": "markdown",
   "metadata": {},
   "source": [
    "The goal of this project is to create a classifier that predicts the outcome of a Terry Stop (whether an arrest occurs) based on reasonable suspicion. This will involve considering various factors such as the presence of weapons, the time of day, and other pertinent information. The model will tackle the binary classification problem, aiming to enhance the efficiency and fairness of law enforcement actions."
   ]
  },
  {
   "cell_type": "markdown",
   "metadata": {},
   "source": [
    "## 1.3. Objectives\n",
    "* Develop a predictive model for Terry Stops that accurately determines the outcome (whether an arrest is made)\n",
    "* Incorporate key factors into the model, such as the presence of weapons and the time of the call\n",
    "* Ensure the model is ethically sound, avoiding any biases or discrimination based on gender and race."
   ]
  },
  {
   "cell_type": "markdown",
   "metadata": {},
   "source": [
    "# 2. Data Understanding"
   ]
  },
  {
   "cell_type": "markdown",
   "metadata": {},
   "source": [
    "## 2.1 Data Understanding\n",
    "This dataset, provided by the City of Seattle and managed by the Seattle Police Department, was created on April 13, 2017, and last updated on February 6, 2023. It comprises **54,873** rows and **23** columns, with each row representing a unique Terry Stop record reported by the conducting officer. The dataset includes details about the stopped individual, such as perceived age group, race, and gender, as well as information about the officer, including gender, race, and year of birth. Additionally, it encompasses details regarding the stop resolution, any discovered weapons, the date and time of the stop report, and information about the associated Computer Aided Dispatch (CAD) event. The data is refreshed daily and is released under the public domain license."
   ]
  },
  {
   "cell_type": "markdown",
   "metadata": {},
   "source": [
    "# 3. Requirements\n",
    "\n",
    "* Data Preparation -> Loading Libraries -> Loading data -> Descriptive Exploration -> Data Cleaning -> Exploratory Descriptive Analysis (EDA) -> Pre-processing Data\n",
    "\n",
    "* Modelling -> Train test split -> Logistic Regression -> K-Nearest -> Decision Tree -> Logistic Regression -> Random Forest\n",
    "    \n",
    "* Evaluation -> Classification Metrics -> Best Perfoming Model\n",
    "\n",
    "* Conclusion -> Best Model\n",
    "    \n",
    "* Recommendation -> Most imporatnt features"
   ]
  },
  {
   "cell_type": "markdown",
   "metadata": {},
   "source": [
    "# 4. Data Preparation\n",
    "\n",
    "* Loading Libraries \n",
    "* Loading data \n",
    "* Descriptive Exploration\n",
    "* Data Cleaning \n",
    "* Exploratory Descriptive Analysis (EDA) \n",
    "* Pre-processing Data\n",
    "    * >Update the Stop Resolution column to indicate whether individuals were arrested (1) or not arrested (0):\n",
    "    * >Convert the date column to datetime formart and add a new column for the month:\n",
    "    * >Classify weapons into categories firearms vs. non-firearms vs. no weapon:\n",
    "    * >Calculate the age of the Officer from their year of birth and update the column accordingly:\n",
    "    * >Remove the columns that are unnecessary for our analysis:\n",
    "    * >Transform categorical data into numeric format using label encoding."
   ]
  },
  {
   "cell_type": "markdown",
   "metadata": {},
   "source": [
    "### 4.1. Import Libraries"
   ]
  },
  {
   "cell_type": "code",
   "execution_count": 2,
   "metadata": {},
   "outputs": [],
   "source": [
    "# import relevant libraries\n",
    "import pandas as pd\n",
    "import numpy as np\n",
    "import matplotlib.pyplot as plt\n",
    "import seaborn as sns"
   ]
  },
  {
   "cell_type": "markdown",
   "metadata": {},
   "source": [
    "### Loading Data"
   ]
  }
 ],
 "metadata": {
  "kernelspec": {
   "display_name": "base",
   "language": "python",
   "name": "python3"
  },
  "language_info": {
   "codemirror_mode": {
    "name": "ipython",
    "version": 3
   },
   "file_extension": ".py",
   "mimetype": "text/x-python",
   "name": "python",
   "nbconvert_exporter": "python",
   "pygments_lexer": "ipython3",
   "version": "3.11.5"
  }
 },
 "nbformat": 4,
 "nbformat_minor": 2
}
